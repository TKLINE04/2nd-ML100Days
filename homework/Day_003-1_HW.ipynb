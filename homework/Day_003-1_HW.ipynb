{
 "cells": [
  {
   "cell_type": "markdown",
   "metadata": {},
   "source": [
    "## 練習時間\n",
    "在小量的資料上，我們用眼睛就可以看得出來程式碼是否有跑出我們理想中的結果\n",
    "\n",
    "請嘗試想像一個你需要的資料結構 (裡面的值可以是隨機的)，然後用上述的方法把它變成 pandas DataFrame\n",
    "\n",
    "#### Ex: 想像一個 dataframe 有兩個欄位，一個是國家，一個是人口，求人口數最多的國家\n",
    "\n",
    "### Hints: [隨機產生數值](https://blog.csdn.net/christianashannon/article/details/78867204)"
   ]
  },
  {
   "cell_type": "code",
   "execution_count": 1,
   "metadata": {},
   "outputs": [],
   "source": [
    "import pandas as pd\n",
    "import numpy as np"
   ]
  },
  {
   "cell_type": "code",
   "execution_count": 5,
   "metadata": {},
   "outputs": [
    {
     "name": "stdout",
     "output_type": "stream",
     "text": [
      "       國家       人口\n",
      "0   japan  [43835]\n",
      "1     USA  [38426]\n",
      "2  taiwan  [22844]\n",
      "3   china  [23248]\n",
      "<bound method DataFrame.sort_values of        國家       人口\n",
      "0   japan  [43835]\n",
      "1     USA  [38426]\n",
      "2  taiwan  [22844]\n",
      "3   china  [23248]>\n"
     ]
    }
   ],
   "source": [
    "data={'國家':['japan','USA','taiwan','china']\n",
    "    ,'人口':[np.random.randint(50000,size=1),\n",
    "           np.random.randint(50000,size=1),\n",
    "           np.random.randint(50000,size=1),\n",
    "           np.random.randint(50000,size=1)]}\n",
    "\n",
    "data1 = pd.DataFrame(data)\n",
    "print(data1)\n",
    "df=data1.sort_values\n",
    "print(df)"
   ]
  },
  {
   "cell_type": "code",
   "execution_count": null,
   "metadata": {
    "collapsed": true
   },
   "outputs": [],
   "source": []
  }
 ],
 "metadata": {
  "kernelspec": {
   "display_name": "Python 3",
   "language": "python",
   "name": "python3"
  },
  "language_info": {
   "codemirror_mode": {
    "name": "ipython",
    "version": 3
   },
   "file_extension": ".py",
   "mimetype": "text/x-python",
   "name": "python",
   "nbconvert_exporter": "python",
   "pygments_lexer": "ipython3",
   "version": "3.6.5"
  }
 },
 "nbformat": 4,
 "nbformat_minor": 2
}
